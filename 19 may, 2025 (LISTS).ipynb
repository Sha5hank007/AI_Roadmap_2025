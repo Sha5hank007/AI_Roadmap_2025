{
 "cells": [
  {
   "cell_type": "markdown",
   "id": "4cad0ca8-926d-496a-94d1-4a5947191a68",
   "metadata": {},
   "source": [
    "DATA STRUCTURES"
   ]
  },
  {
   "cell_type": "code",
   "execution_count": 1,
   "id": "28619f15-c353-44d9-b47d-89bd84d83924",
   "metadata": {},
   "outputs": [
    {
     "data": {
      "text/plain": [
       "[]"
      ]
     },
     "execution_count": 1,
     "metadata": {},
     "output_type": "execute_result"
    }
   ],
   "source": [
    "l=[]\n",
    "l"
   ]
  },
  {
   "cell_type": "code",
   "execution_count": 2,
   "id": "57b04de2-08c5-4fc5-8abf-d2801f41c0ad",
   "metadata": {},
   "outputs": [
    {
     "data": {
      "text/plain": [
       "[55, 55, 212]"
      ]
     },
     "execution_count": 2,
     "metadata": {},
     "output_type": "execute_result"
    }
   ],
   "source": [
    "l.append(55)\n",
    "l.append(55)\n",
    "l.append(212)\n",
    "l"
   ]
  },
  {
   "cell_type": "code",
   "execution_count": 3,
   "id": "95ab3f43-9158-4f15-9e56-e9f4d12f901a",
   "metadata": {},
   "outputs": [
    {
     "data": {
      "text/plain": [
       "3"
      ]
     },
     "execution_count": 3,
     "metadata": {},
     "output_type": "execute_result"
    }
   ],
   "source": [
    "len(l)"
   ]
  },
  {
   "cell_type": "code",
   "execution_count": 9,
   "id": "2d261392-6df1-4ea4-8df5-868ee55e8c73",
   "metadata": {},
   "outputs": [
    {
     "data": {
      "text/plain": [
       "[55, 55, 212]"
      ]
     },
     "execution_count": 9,
     "metadata": {},
     "output_type": "execute_result"
    }
   ],
   "source": [
    "k=l.copy()\n",
    "k"
   ]
  },
  {
   "cell_type": "code",
   "execution_count": 7,
   "id": "9723f1c3-9716-4331-9391-c415367874c1",
   "metadata": {},
   "outputs": [
    {
     "data": {
      "text/plain": [
       "True"
      ]
     },
     "execution_count": 7,
     "metadata": {},
     "output_type": "execute_result"
    }
   ],
   "source": [
    "l==k"
   ]
  },
  {
   "cell_type": "code",
   "execution_count": 11,
   "id": "ae932790-b833-4b41-a1aa-79eaae290dbd",
   "metadata": {},
   "outputs": [],
   "source": [
    "k.append(True)\n",
    "k.append('PANDU')\n",
    "k.append(5+10j)"
   ]
  },
  {
   "cell_type": "code",
   "execution_count": 12,
   "id": "43d22cdc-e274-4bac-9658-a68815d32cc5",
   "metadata": {},
   "outputs": [
    {
     "data": {
      "text/plain": [
       "[55, 55, 212, True, 'PANDU', (5+10j)]"
      ]
     },
     "execution_count": 12,
     "metadata": {},
     "output_type": "execute_result"
    }
   ],
   "source": [
    "k"
   ]
  },
  {
   "cell_type": "code",
   "execution_count": 16,
   "id": "351dd0a7-371d-46df-8485-204c05e317d8",
   "metadata": {},
   "outputs": [
    {
     "name": "stdout",
     "output_type": "stream",
     "text": [
      "True\n"
     ]
    }
   ],
   "source": [
    "print(k[3])"
   ]
  },
  {
   "cell_type": "code",
   "execution_count": 20,
   "id": "9d9ac058-6808-429d-82e5-f58e4a880e29",
   "metadata": {},
   "outputs": [
    {
     "name": "stdout",
     "output_type": "stream",
     "text": [
      "1670381385472\n",
      "1670391136448\n"
     ]
    }
   ],
   "source": [
    "print(id(l))\n",
    "print(id(k))"
   ]
  },
  {
   "cell_type": "code",
   "execution_count": 21,
   "id": "b5eaf83b-0a0a-4cfb-9447-6d48a540b872",
   "metadata": {},
   "outputs": [
    {
     "data": {
      "text/plain": [
       "0"
      ]
     },
     "execution_count": 21,
     "metadata": {},
     "output_type": "execute_result"
    }
   ],
   "source": [
    "k.count(20)"
   ]
  },
  {
   "cell_type": "code",
   "execution_count": 22,
   "id": "ebd69bee-1674-4cdd-acc4-acc9427083bc",
   "metadata": {},
   "outputs": [],
   "source": [
    "k.append(l)"
   ]
  },
  {
   "cell_type": "code",
   "execution_count": 24,
   "id": "b15537f5-4d3a-4932-ba67-f4c614b1e23a",
   "metadata": {},
   "outputs": [
    {
     "data": {
      "text/plain": [
       "[55, 55, 212, True, 'PANDU', (5+10j), [55, 55, 212]]"
      ]
     },
     "execution_count": 24,
     "metadata": {},
     "output_type": "execute_result"
    }
   ],
   "source": [
    "k  #nested lists"
   ]
  },
  {
   "cell_type": "code",
   "execution_count": 25,
   "id": "d35fe2c9-d523-4f08-ab18-b4c834d494f1",
   "metadata": {},
   "outputs": [
    {
     "data": {
      "text/plain": [
       "[55, 66, 212, True, 'PANDU', (5+10j), [55, 55, 212]]"
      ]
     },
     "execution_count": 25,
     "metadata": {},
     "output_type": "execute_result"
    }
   ],
   "source": [
    "k[1]=66\n",
    "k"
   ]
  },
  {
   "cell_type": "code",
   "execution_count": 26,
   "id": "a5124e99-4b73-4afa-86a0-7d237d7975cc",
   "metadata": {},
   "outputs": [
    {
     "data": {
      "text/plain": [
       "'PANDU'"
      ]
     },
     "execution_count": 26,
     "metadata": {},
     "output_type": "execute_result"
    }
   ],
   "source": [
    "k[-3]"
   ]
  },
  {
   "cell_type": "code",
   "execution_count": null,
   "id": "b17f7921-dc43-4662-85cf-2d8bcc9bf953",
   "metadata": {},
   "outputs": [],
   "source": [
    "del l #deletes list"
   ]
  },
  {
   "cell_type": "code",
   "execution_count": 27,
   "id": "0704a2ca-e640-468a-a71f-f24902c17a98",
   "metadata": {},
   "outputs": [
    {
     "data": {
      "text/plain": [
       "True"
      ]
     },
     "execution_count": 27,
     "metadata": {},
     "output_type": "execute_result"
    }
   ],
   "source": [
    "k.pop(3)  #removes element on index level"
   ]
  },
  {
   "cell_type": "code",
   "execution_count": 28,
   "id": "a6e1449c-1e27-4785-a8f1-f29f9e139569",
   "metadata": {},
   "outputs": [
    {
     "data": {
      "text/plain": [
       "[55, 66, 212, 'PANDU', (5+10j), [55, 55, 212]]"
      ]
     },
     "execution_count": 28,
     "metadata": {},
     "output_type": "execute_result"
    }
   ],
   "source": [
    "k"
   ]
  },
  {
   "cell_type": "code",
   "execution_count": 29,
   "id": "9ef40173-bacc-4734-bfc2-b25b49af7c10",
   "metadata": {},
   "outputs": [
    {
     "data": {
      "text/plain": [
       "[55, 212, 'PANDU', (5+10j), [55, 55, 212]]"
      ]
     },
     "execution_count": 29,
     "metadata": {},
     "output_type": "execute_result"
    }
   ],
   "source": [
    "k.remove(66)  #removes element by element level unlike pop\n",
    "k"
   ]
  },
  {
   "cell_type": "code",
   "execution_count": 33,
   "id": "1a08475f-e897-4195-bec2-42552457ab81",
   "metadata": {},
   "outputs": [
    {
     "data": {
      "text/plain": [
       "[1, 55, 55, 212]"
      ]
     },
     "execution_count": 33,
     "metadata": {},
     "output_type": "execute_result"
    }
   ],
   "source": [
    "l.append(1)\n",
    "l.sort()\n",
    "l"
   ]
  },
  {
   "cell_type": "code",
   "execution_count": null,
   "id": "8ae0d9ca-1e20-4f0b-8d5e-023d8c5b9f60",
   "metadata": {},
   "outputs": [],
   "source": []
  }
 ],
 "metadata": {
  "kernelspec": {
   "display_name": "Python 3 (ipykernel)",
   "language": "python",
   "name": "python3"
  },
  "language_info": {
   "codemirror_mode": {
    "name": "ipython",
    "version": 3
   },
   "file_extension": ".py",
   "mimetype": "text/x-python",
   "name": "python",
   "nbconvert_exporter": "python",
   "pygments_lexer": "ipython3",
   "version": "3.12.7"
  }
 },
 "nbformat": 4,
 "nbformat_minor": 5
}
