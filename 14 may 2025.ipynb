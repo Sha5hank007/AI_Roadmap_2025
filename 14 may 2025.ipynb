{
 "cells": [
  {
   "cell_type": "markdown",
   "id": "1cc5184f-b992-4934-8b32-8d95a80134ff",
   "metadata": {},
   "source": [
    "14 may 2025"
   ]
  },
  {
   "cell_type": "code",
   "execution_count": 1,
   "id": "1302c321-0eda-4f33-ae98-f57cdd904529",
   "metadata": {},
   "outputs": [
    {
     "data": {
      "text/plain": [
       "223.0"
      ]
     },
     "execution_count": 1,
     "metadata": {},
     "output_type": "execute_result"
    }
   ],
   "source": [
    "float(223)\n"
   ]
  },
  {
   "cell_type": "code",
   "execution_count": 2,
   "id": "8aecccd3-8bda-4a3e-841d-f6c17aafafe5",
   "metadata": {},
   "outputs": [
    {
     "data": {
      "text/plain": [
       "True"
      ]
     },
     "execution_count": 2,
     "metadata": {},
     "output_type": "execute_result"
    }
   ],
   "source": [
    "bool(4)"
   ]
  },
  {
   "cell_type": "code",
   "execution_count": 3,
   "id": "b266c9e0-5504-490c-a139-4fc53f2d6bf0",
   "metadata": {},
   "outputs": [
    {
     "data": {
      "text/plain": [
       "True"
      ]
     },
     "execution_count": 3,
     "metadata": {},
     "output_type": "execute_result"
    }
   ],
   "source": [
    "bool(-3)"
   ]
  },
  {
   "cell_type": "code",
   "execution_count": 4,
   "id": "c31c1bc0-32c2-4195-b096-e8ebaf175bf6",
   "metadata": {},
   "outputs": [
    {
     "data": {
      "text/plain": [
       "False"
      ]
     },
     "execution_count": 4,
     "metadata": {},
     "output_type": "execute_result"
    }
   ],
   "source": [
    "bool()"
   ]
  },
  {
   "cell_type": "code",
   "execution_count": 5,
   "id": "4473d176-a715-4337-b8c3-10f7307a0b03",
   "metadata": {},
   "outputs": [
    {
     "data": {
      "text/plain": [
       "True"
      ]
     },
     "execution_count": 5,
     "metadata": {},
     "output_type": "execute_result"
    }
   ],
   "source": [
    "bool('jijiji')"
   ]
  },
  {
   "cell_type": "code",
   "execution_count": null,
   "id": "6e011cd7-cf0f-4756-9c21-74336e66bf95",
   "metadata": {},
   "outputs": [],
   "source": []
  }
 ],
 "metadata": {
  "kernelspec": {
   "display_name": "Python 3 (ipykernel)",
   "language": "python",
   "name": "python3"
  },
  "language_info": {
   "codemirror_mode": {
    "name": "ipython",
    "version": 3
   },
   "file_extension": ".py",
   "mimetype": "text/x-python",
   "name": "python",
   "nbconvert_exporter": "python",
   "pygments_lexer": "ipython3",
   "version": "3.12.7"
  }
 },
 "nbformat": 4,
 "nbformat_minor": 5
}
