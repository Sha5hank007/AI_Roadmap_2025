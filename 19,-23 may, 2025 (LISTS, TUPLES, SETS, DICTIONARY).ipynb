{
 "cells": [
  {
   "cell_type": "markdown",
   "id": "4cad0ca8-926d-496a-94d1-4a5947191a68",
   "metadata": {},
   "source": [
    "DATA STRUCTURES"
   ]
  },
  {
   "cell_type": "code",
   "execution_count": 1,
   "id": "28619f15-c353-44d9-b47d-89bd84d83924",
   "metadata": {},
   "outputs": [
    {
     "data": {
      "text/plain": [
       "[]"
      ]
     },
     "execution_count": 1,
     "metadata": {},
     "output_type": "execute_result"
    }
   ],
   "source": [
    "l=[]\n",
    "l"
   ]
  },
  {
   "cell_type": "code",
   "execution_count": 2,
   "id": "57b04de2-08c5-4fc5-8abf-d2801f41c0ad",
   "metadata": {},
   "outputs": [
    {
     "data": {
      "text/plain": [
       "[55, 55, 212]"
      ]
     },
     "execution_count": 2,
     "metadata": {},
     "output_type": "execute_result"
    }
   ],
   "source": [
    "l.append(55)\n",
    "l.append(55)\n",
    "l.append(212)\n",
    "l"
   ]
  },
  {
   "cell_type": "code",
   "execution_count": 3,
   "id": "95ab3f43-9158-4f15-9e56-e9f4d12f901a",
   "metadata": {},
   "outputs": [
    {
     "data": {
      "text/plain": [
       "3"
      ]
     },
     "execution_count": 3,
     "metadata": {},
     "output_type": "execute_result"
    }
   ],
   "source": [
    "len(l)"
   ]
  },
  {
   "cell_type": "code",
   "execution_count": 4,
   "id": "2d261392-6df1-4ea4-8df5-868ee55e8c73",
   "metadata": {},
   "outputs": [
    {
     "data": {
      "text/plain": [
       "[55, 55, 212]"
      ]
     },
     "execution_count": 4,
     "metadata": {},
     "output_type": "execute_result"
    }
   ],
   "source": [
    "k=l.copy()\n",
    "k"
   ]
  },
  {
   "cell_type": "code",
   "execution_count": 5,
   "id": "9723f1c3-9716-4331-9391-c415367874c1",
   "metadata": {},
   "outputs": [
    {
     "data": {
      "text/plain": [
       "True"
      ]
     },
     "execution_count": 5,
     "metadata": {},
     "output_type": "execute_result"
    }
   ],
   "source": [
    "l==k"
   ]
  },
  {
   "cell_type": "code",
   "execution_count": 6,
   "id": "ae932790-b833-4b41-a1aa-79eaae290dbd",
   "metadata": {},
   "outputs": [],
   "source": [
    "k.append(True)\n",
    "k.append('PANDU')\n",
    "k.append(5+10j)"
   ]
  },
  {
   "cell_type": "code",
   "execution_count": 7,
   "id": "43d22cdc-e274-4bac-9658-a68815d32cc5",
   "metadata": {},
   "outputs": [
    {
     "data": {
      "text/plain": [
       "[55, 55, 212, True, 'PANDU', (5+10j)]"
      ]
     },
     "execution_count": 7,
     "metadata": {},
     "output_type": "execute_result"
    }
   ],
   "source": [
    "k"
   ]
  },
  {
   "cell_type": "code",
   "execution_count": 8,
   "id": "351dd0a7-371d-46df-8485-204c05e317d8",
   "metadata": {},
   "outputs": [
    {
     "name": "stdout",
     "output_type": "stream",
     "text": [
      "True\n"
     ]
    }
   ],
   "source": [
    "print(k[3])"
   ]
  },
  {
   "cell_type": "code",
   "execution_count": 9,
   "id": "9d9ac058-6808-429d-82e5-f58e4a880e29",
   "metadata": {},
   "outputs": [
    {
     "name": "stdout",
     "output_type": "stream",
     "text": [
      "2503649204864\n",
      "2503649870400\n"
     ]
    }
   ],
   "source": [
    "print(id(l))\n",
    "print(id(k))"
   ]
  },
  {
   "cell_type": "code",
   "execution_count": 10,
   "id": "b5eaf83b-0a0a-4cfb-9447-6d48a540b872",
   "metadata": {},
   "outputs": [
    {
     "data": {
      "text/plain": [
       "0"
      ]
     },
     "execution_count": 10,
     "metadata": {},
     "output_type": "execute_result"
    }
   ],
   "source": [
    "k.count(20)"
   ]
  },
  {
   "cell_type": "code",
   "execution_count": 11,
   "id": "ebd69bee-1674-4cdd-acc4-acc9427083bc",
   "metadata": {},
   "outputs": [],
   "source": [
    "k.append(l)"
   ]
  },
  {
   "cell_type": "code",
   "execution_count": 12,
   "id": "b15537f5-4d3a-4932-ba67-f4c614b1e23a",
   "metadata": {},
   "outputs": [
    {
     "data": {
      "text/plain": [
       "[55, 55, 212, True, 'PANDU', (5+10j), [55, 55, 212]]"
      ]
     },
     "execution_count": 12,
     "metadata": {},
     "output_type": "execute_result"
    }
   ],
   "source": [
    "k  #nested lists"
   ]
  },
  {
   "cell_type": "code",
   "execution_count": 13,
   "id": "d35fe2c9-d523-4f08-ab18-b4c834d494f1",
   "metadata": {},
   "outputs": [
    {
     "data": {
      "text/plain": [
       "[55, 66, 212, True, 'PANDU', (5+10j), [55, 55, 212]]"
      ]
     },
     "execution_count": 13,
     "metadata": {},
     "output_type": "execute_result"
    }
   ],
   "source": [
    "k[1]=66\n",
    "k"
   ]
  },
  {
   "cell_type": "code",
   "execution_count": 14,
   "id": "a5124e99-4b73-4afa-86a0-7d237d7975cc",
   "metadata": {},
   "outputs": [
    {
     "data": {
      "text/plain": [
       "'PANDU'"
      ]
     },
     "execution_count": 14,
     "metadata": {},
     "output_type": "execute_result"
    }
   ],
   "source": [
    "k[-3]"
   ]
  },
  {
   "cell_type": "code",
   "execution_count": 112,
   "id": "b17f7921-dc43-4662-85cf-2d8bcc9bf953",
   "metadata": {},
   "outputs": [],
   "source": [
    "del l #deletes list"
   ]
  },
  {
   "cell_type": "code",
   "execution_count": 15,
   "id": "0704a2ca-e640-468a-a71f-f24902c17a98",
   "metadata": {},
   "outputs": [
    {
     "data": {
      "text/plain": [
       "True"
      ]
     },
     "execution_count": 15,
     "metadata": {},
     "output_type": "execute_result"
    }
   ],
   "source": [
    "k.pop(3)  #removes element on index level"
   ]
  },
  {
   "cell_type": "code",
   "execution_count": 16,
   "id": "a6e1449c-1e27-4785-a8f1-f29f9e139569",
   "metadata": {},
   "outputs": [
    {
     "data": {
      "text/plain": [
       "[55, 66, 212, 'PANDU', (5+10j), [55, 55, 212]]"
      ]
     },
     "execution_count": 16,
     "metadata": {},
     "output_type": "execute_result"
    }
   ],
   "source": [
    "k"
   ]
  },
  {
   "cell_type": "code",
   "execution_count": 17,
   "id": "9ef40173-bacc-4734-bfc2-b25b49af7c10",
   "metadata": {},
   "outputs": [
    {
     "data": {
      "text/plain": [
       "[55, 212, 'PANDU', (5+10j), [55, 55, 212]]"
      ]
     },
     "execution_count": 17,
     "metadata": {},
     "output_type": "execute_result"
    }
   ],
   "source": [
    "k.remove(66)  #removes element by element level unlike pop\n",
    "k"
   ]
  },
  {
   "cell_type": "code",
   "execution_count": 18,
   "id": "1a08475f-e897-4195-bec2-42552457ab81",
   "metadata": {},
   "outputs": [
    {
     "data": {
      "text/plain": [
       "[1, 55, 55, 212]"
      ]
     },
     "execution_count": 18,
     "metadata": {},
     "output_type": "execute_result"
    }
   ],
   "source": [
    "l.append(1)\n",
    "l.sort()\n",
    "l"
   ]
  },
  {
   "cell_type": "code",
   "execution_count": 19,
   "id": "8ae0d9ca-1e20-4f0b-8d5e-023d8c5b9f60",
   "metadata": {},
   "outputs": [
    {
     "data": {
      "text/plain": [
       "[55, 212, 'PANDU', (5+10j), [1, 55, 55, 212]]"
      ]
     },
     "execution_count": 19,
     "metadata": {},
     "output_type": "execute_result"
    }
   ],
   "source": [
    "k"
   ]
  },
  {
   "cell_type": "code",
   "execution_count": 20,
   "id": "3341e994-4d07-4036-84cf-f4a75e68ff89",
   "metadata": {},
   "outputs": [
    {
     "data": {
      "text/plain": [
       "'D'"
      ]
     },
     "execution_count": 20,
     "metadata": {},
     "output_type": "execute_result"
    }
   ],
   "source": [
    "k[2][3]"
   ]
  },
  {
   "cell_type": "code",
   "execution_count": 21,
   "id": "f3bc6e00-001d-4b6c-9924-9baa5ead3fec",
   "metadata": {},
   "outputs": [
    {
     "data": {
      "text/plain": [
       "[212, 55, 55, 1]"
      ]
     },
     "execution_count": 21,
     "metadata": {},
     "output_type": "execute_result"
    }
   ],
   "source": [
    "l.sort(reverse=True)\n",
    "l"
   ]
  },
  {
   "cell_type": "code",
   "execution_count": 22,
   "id": "86408555-5916-40ba-acea-7b381be48d00",
   "metadata": {},
   "outputs": [
    {
     "data": {
      "text/plain": [
       "[212, 55, 55, 1]"
      ]
     },
     "execution_count": 22,
     "metadata": {},
     "output_type": "execute_result"
    }
   ],
   "source": [
    "l"
   ]
  },
  {
   "cell_type": "code",
   "execution_count": 23,
   "id": "9f0225a4-e9f7-4d14-9f93-ef57a8afad45",
   "metadata": {},
   "outputs": [
    {
     "data": {
      "text/plain": [
       "[55, 212, 'PANDU', (5+10j)]"
      ]
     },
     "execution_count": 23,
     "metadata": {},
     "output_type": "execute_result"
    }
   ],
   "source": [
    "k[:4]"
   ]
  },
  {
   "cell_type": "code",
   "execution_count": 24,
   "id": "12406514-f884-468b-8886-2e45e6786050",
   "metadata": {},
   "outputs": [
    {
     "data": {
      "text/plain": [
       "[212, 'PANDU']"
      ]
     },
     "execution_count": 24,
     "metadata": {},
     "output_type": "execute_result"
    }
   ],
   "source": [
    "k[1:3]"
   ]
  },
  {
   "cell_type": "code",
   "execution_count": 25,
   "id": "a743735b-5e8d-41c3-aceb-6e939252cf01",
   "metadata": {},
   "outputs": [
    {
     "data": {
      "text/plain": [
       "[55, 212, 'PANDU', (5+10j), [212, 55, 55, 1]]"
      ]
     },
     "execution_count": 25,
     "metadata": {},
     "output_type": "execute_result"
    }
   ],
   "source": [
    "k"
   ]
  },
  {
   "cell_type": "code",
   "execution_count": 26,
   "id": "2c705220-c03a-420e-a729-86dae8b76ae6",
   "metadata": {},
   "outputs": [
    {
     "data": {
      "text/plain": [
       "[55, 212, 'PANDU', 'DFGHGHH', (5+10j), [212, 55, 55, 1]]"
      ]
     },
     "execution_count": 26,
     "metadata": {},
     "output_type": "execute_result"
    }
   ],
   "source": [
    "k.insert(3,\"DFGHGHH\")\n",
    "k"
   ]
  },
  {
   "cell_type": "code",
   "execution_count": 27,
   "id": "0848fa83-d227-4eae-bd7d-ecbcf3b4f5ab",
   "metadata": {},
   "outputs": [
    {
     "data": {
      "text/plain": [
       "[212, 55, 55, 1]"
      ]
     },
     "execution_count": 27,
     "metadata": {},
     "output_type": "execute_result"
    }
   ],
   "source": [
    "l"
   ]
  },
  {
   "cell_type": "code",
   "execution_count": 28,
   "id": "900fbc8b-1958-45d6-88d5-78a8d6bd1f3f",
   "metadata": {},
   "outputs": [
    {
     "data": {
      "text/plain": [
       "[1, 55, 55, 212]"
      ]
     },
     "execution_count": 28,
     "metadata": {},
     "output_type": "execute_result"
    }
   ],
   "source": [
    "l.sort()\n",
    "l"
   ]
  },
  {
   "cell_type": "code",
   "execution_count": 29,
   "id": "a66e4837-873d-45e9-8be6-c5c448ac2a6b",
   "metadata": {},
   "outputs": [],
   "source": [
    "l.reverse()"
   ]
  },
  {
   "cell_type": "code",
   "execution_count": 30,
   "id": "0b2eb731-3242-4b14-a0ec-317e4d284834",
   "metadata": {},
   "outputs": [
    {
     "data": {
      "text/plain": [
       "[212, 55, 55, 1]"
      ]
     },
     "execution_count": 30,
     "metadata": {},
     "output_type": "execute_result"
    }
   ],
   "source": [
    "l"
   ]
  },
  {
   "cell_type": "code",
   "execution_count": 31,
   "id": "88801edc-d46d-4659-99a9-a7e900c091ce",
   "metadata": {},
   "outputs": [
    {
     "data": {
      "text/plain": [
       "[55, 212, 'PANDU', 'DFGHGHH', (5+10j), [212, 55, 55, 1]]"
      ]
     },
     "execution_count": 31,
     "metadata": {},
     "output_type": "execute_result"
    }
   ],
   "source": [
    "k"
   ]
  },
  {
   "cell_type": "code",
   "execution_count": 32,
   "id": "33da77be-06da-44fa-9c5e-f3d2ea2e70c3",
   "metadata": {},
   "outputs": [
    {
     "name": "stdout",
     "output_type": "stream",
     "text": [
      "55\n",
      "212\n",
      "PANDU\n",
      "DFGHGHH\n",
      "(5+10j)\n",
      "[212, 55, 55, 1]\n"
     ]
    }
   ],
   "source": [
    "for i in k:\n",
    "    print(i)"
   ]
  },
  {
   "cell_type": "code",
   "execution_count": 33,
   "id": "ec1f24eb-ef5c-4298-81ad-acc441fe7bf7",
   "metadata": {},
   "outputs": [
    {
     "name": "stdout",
     "output_type": "stream",
     "text": [
      "(0, 55)\n",
      "(1, 212)\n",
      "(2, 'PANDU')\n",
      "(3, 'DFGHGHH')\n",
      "(4, (5+10j))\n",
      "(5, [212, 55, 55, 1])\n"
     ]
    }
   ],
   "source": [
    "for i in enumerate(k):\n",
    "    print(i)"
   ]
  },
  {
   "cell_type": "code",
   "execution_count": 34,
   "id": "6f7efc65-e889-46e6-a69b-495c885da237",
   "metadata": {},
   "outputs": [
    {
     "data": {
      "text/plain": [
       "True"
      ]
     },
     "execution_count": 34,
     "metadata": {},
     "output_type": "execute_result"
    }
   ],
   "source": [
    "all(k)"
   ]
  },
  {
   "cell_type": "code",
   "execution_count": 35,
   "id": "2e661fd5-3f31-4496-8994-2193230fbc0a",
   "metadata": {},
   "outputs": [
    {
     "data": {
      "text/plain": [
       "True"
      ]
     },
     "execution_count": 35,
     "metadata": {},
     "output_type": "execute_result"
    }
   ],
   "source": [
    "any(k)"
   ]
  },
  {
   "cell_type": "code",
   "execution_count": null,
   "id": "6522dfe9-b9c4-4a91-9d38-483300ca8234",
   "metadata": {},
   "outputs": [],
   "source": []
  },
  {
   "cell_type": "markdown",
   "id": "112d7ed3-958d-4c19-8746-3c6df23a023b",
   "metadata": {},
   "source": [
    "TUPLE"
   ]
  },
  {
   "cell_type": "code",
   "execution_count": 36,
   "id": "d8c50d98-2879-46c0-9b18-31ad9d927694",
   "metadata": {},
   "outputs": [
    {
     "data": {
      "text/plain": [
       "tuple"
      ]
     },
     "execution_count": 36,
     "metadata": {},
     "output_type": "execute_result"
    }
   ],
   "source": [
    "t=(10,255,86,5,10)\n",
    "type(t)"
   ]
  },
  {
   "cell_type": "code",
   "execution_count": 37,
   "id": "420a75d5-dca6-49b6-9acb-8aa35076ce94",
   "metadata": {},
   "outputs": [
    {
     "data": {
      "text/plain": [
       "2"
      ]
     },
     "execution_count": 37,
     "metadata": {},
     "output_type": "execute_result"
    }
   ],
   "source": [
    "t.count(10)"
   ]
  },
  {
   "cell_type": "code",
   "execution_count": 38,
   "id": "325a9f9a-1c4c-4001-99ab-31bfbbd7c7dd",
   "metadata": {},
   "outputs": [
    {
     "data": {
      "text/plain": [
       "3"
      ]
     },
     "execution_count": 38,
     "metadata": {},
     "output_type": "execute_result"
    }
   ],
   "source": [
    "t.index(5)"
   ]
  },
  {
   "cell_type": "code",
   "execution_count": 39,
   "id": "ba7bf4de-35ee-4a28-b5a9-0295be74bf96",
   "metadata": {
    "jp-MarkdownHeadingCollapsed": true
   },
   "outputs": [
    {
     "data": {
      "text/plain": [
       "(10, 255, 86, 5, 10, 10, 255, 86, 5, 10, 10, 255, 86, 5, 10)"
      ]
     },
     "execution_count": 39,
     "metadata": {},
     "output_type": "execute_result"
    }
   ],
   "source": [
    "t2=t*3\n",
    "t2"
   ]
  },
  {
   "cell_type": "code",
   "execution_count": 40,
   "id": "35d0e704-70ea-4ae1-b4ee-41318cf518d5",
   "metadata": {},
   "outputs": [
    {
     "data": {
      "text/plain": [
       "(10, 77, 5, [1, 8, 33])"
      ]
     },
     "execution_count": 40,
     "metadata": {},
     "output_type": "execute_result"
    }
   ],
   "source": [
    "t3=(10,77,5,[1,8,33])\n",
    "t3"
   ]
  },
  {
   "cell_type": "code",
   "execution_count": 41,
   "id": "5b2bd226-b51c-4057-84f4-b06d5e2a6960",
   "metadata": {},
   "outputs": [
    {
     "data": {
      "text/plain": [
       "(12, 663, 500, (10, 99))"
      ]
     },
     "execution_count": 41,
     "metadata": {},
     "output_type": "execute_result"
    }
   ],
   "source": [
    "t4=(12,663,500,(10,99))\n",
    "t4"
   ]
  },
  {
   "cell_type": "code",
   "execution_count": 42,
   "id": "241be9ff-1529-42f7-b128-04a4c8f563a0",
   "metadata": {},
   "outputs": [
    {
     "data": {
      "text/plain": [
       "[212, 55, 55, 1, (54, 666, 4)]"
      ]
     },
     "execution_count": 42,
     "metadata": {},
     "output_type": "execute_result"
    }
   ],
   "source": [
    "l.append((54,666,4))\n",
    "l"
   ]
  },
  {
   "cell_type": "markdown",
   "id": "7e3e1bed-9591-4e19-8252-77e3cabe7aa1",
   "metadata": {},
   "source": [
    "SET "
   ]
  },
  {
   "cell_type": "code",
   "execution_count": 43,
   "id": "bf55e055-a23c-4ee1-a394-0c6e6f056c56",
   "metadata": {},
   "outputs": [
    {
     "data": {
      "text/plain": [
       "{41, 54, 330}"
      ]
     },
     "execution_count": 43,
     "metadata": {},
     "output_type": "execute_result"
    }
   ],
   "source": [
    "s1={54,41,41,330}\n",
    "s1"
   ]
  },
  {
   "cell_type": "code",
   "execution_count": 45,
   "id": "be0c2d3f-7ee0-4d28-bf9a-0099c01805ad",
   "metadata": {},
   "outputs": [
    {
     "data": {
      "text/plain": [
       "{330, 41, 54, 'KRRR'}"
      ]
     },
     "execution_count": 45,
     "metadata": {},
     "output_type": "execute_result"
    }
   ],
   "source": [
    "s1.add('KRRR')\n",
    "s1"
   ]
  },
  {
   "cell_type": "code",
   "execution_count": 46,
   "id": "d77fcb54-8863-4577-8e0e-37ed3340da68",
   "metadata": {},
   "outputs": [
    {
     "data": {
      "text/plain": [
       "set"
      ]
     },
     "execution_count": 46,
     "metadata": {},
     "output_type": "execute_result"
    }
   ],
   "source": [
    "type(s1)"
   ]
  },
  {
   "cell_type": "code",
   "execution_count": 48,
   "id": "8c8c52f0-ca0c-4d47-b57f-5f93c50a9924",
   "metadata": {},
   "outputs": [
    {
     "data": {
      "text/plain": [
       "{330, 41, 54, 'KRRR'}"
      ]
     },
     "execution_count": 48,
     "metadata": {},
     "output_type": "execute_result"
    }
   ],
   "source": [
    "s2=s1.copy()\n",
    "s2"
   ]
  },
  {
   "cell_type": "code",
   "execution_count": 49,
   "id": "d76556a5-da60-482b-b641-9f58e7a18f08",
   "metadata": {},
   "outputs": [
    {
     "data": {
      "text/plain": [
       "set()"
      ]
     },
     "execution_count": 49,
     "metadata": {},
     "output_type": "execute_result"
    }
   ],
   "source": [
    "s2.clear()\n",
    "s2"
   ]
  },
  {
   "cell_type": "code",
   "execution_count": 51,
   "id": "24df5837-aa49-4bab-b0a5-97f8190815e5",
   "metadata": {},
   "outputs": [
    {
     "data": {
      "text/plain": [
       "{11, 20, 330, 41, 54, 90, 'KRRR'}"
      ]
     },
     "execution_count": 51,
     "metadata": {},
     "output_type": "execute_result"
    }
   ],
   "source": [
    "s1.add(20)\n",
    "s1.add(11)\n",
    "s1.add(90)\n",
    "s1"
   ]
  },
  {
   "cell_type": "code",
   "execution_count": 52,
   "id": "7ed6dd6f-8d13-4cb5-b1d0-e1b11c450069",
   "metadata": {},
   "outputs": [
    {
     "data": {
      "text/plain": [
       "{11, 20, 330, 54, 90, 'KRRR'}"
      ]
     },
     "execution_count": 52,
     "metadata": {},
     "output_type": "execute_result"
    }
   ],
   "source": [
    "s1.pop()\n",
    "s1"
   ]
  },
  {
   "cell_type": "code",
   "execution_count": 53,
   "id": "231db1ed-4d05-4e64-8a28-b28aabe0fffc",
   "metadata": {},
   "outputs": [
    {
     "data": {
      "text/plain": [
       "{11, 20, 54, 90, 'KRRR'}"
      ]
     },
     "execution_count": 53,
     "metadata": {},
     "output_type": "execute_result"
    }
   ],
   "source": [
    "s1.pop()\n",
    "s1"
   ]
  },
  {
   "cell_type": "code",
   "execution_count": 54,
   "id": "4457eb92-0a9b-47c2-a33d-3ccc317f0d5c",
   "metadata": {},
   "outputs": [
    {
     "data": {
      "text/plain": [
       "{20, 54, 90, 'KRRR'}"
      ]
     },
     "execution_count": 54,
     "metadata": {},
     "output_type": "execute_result"
    }
   ],
   "source": [
    "s1.pop()\n",
    "s1"
   ]
  },
  {
   "cell_type": "code",
   "execution_count": 55,
   "id": "15dde6e9-2b32-4808-a4f3-8d43cb328d3f",
   "metadata": {},
   "outputs": [
    {
     "ename": "TypeError",
     "evalue": "set.pop() takes no arguments (1 given)",
     "output_type": "error",
     "traceback": [
      "\u001b[1;31m---------------------------------------------------------------------------\u001b[0m",
      "\u001b[1;31mTypeError\u001b[0m                                 Traceback (most recent call last)",
      "Cell \u001b[1;32mIn[55], line 1\u001b[0m\n\u001b[1;32m----> 1\u001b[0m s1\u001b[38;5;241m.\u001b[39mpop(\u001b[38;5;241m20\u001b[39m)\n",
      "\u001b[1;31mTypeError\u001b[0m: set.pop() takes no arguments (1 given)"
     ]
    }
   ],
   "source": [
    "s1.pop(20)"
   ]
  },
  {
   "cell_type": "code",
   "execution_count": 57,
   "id": "952b9a09-75af-4e3b-b78e-eef763406c07",
   "metadata": {},
   "outputs": [
    {
     "ename": "KeyError",
     "evalue": "9000",
     "output_type": "error",
     "traceback": [
      "\u001b[1;31m---------------------------------------------------------------------------\u001b[0m",
      "\u001b[1;31mKeyError\u001b[0m                                  Traceback (most recent call last)",
      "Cell \u001b[1;32mIn[57], line 1\u001b[0m\n\u001b[1;32m----> 1\u001b[0m s1\u001b[38;5;241m.\u001b[39mremove(\u001b[38;5;241m9000\u001b[39m)\n",
      "\u001b[1;31mKeyError\u001b[0m: 9000"
     ]
    }
   ],
   "source": [
    "s1.remove(9000)"
   ]
  },
  {
   "cell_type": "code",
   "execution_count": 58,
   "id": "b45bf89c-c0f0-45da-b6c6-236952926b92",
   "metadata": {},
   "outputs": [
    {
     "data": {
      "text/plain": [
       "{20, 54, 'KRRR'}"
      ]
     },
     "execution_count": 58,
     "metadata": {},
     "output_type": "execute_result"
    }
   ],
   "source": [
    "s1"
   ]
  },
  {
   "cell_type": "code",
   "execution_count": 59,
   "id": "37edda9e-2324-4192-a5a8-f7977b0e08f2",
   "metadata": {},
   "outputs": [],
   "source": [
    "s1.add(444)\n",
    "s1.add(41)\n",
    "s1.add(11)"
   ]
  },
  {
   "cell_type": "code",
   "execution_count": 60,
   "id": "3f2ea679-13c4-4d9e-9c90-fbb65e9a4002",
   "metadata": {},
   "outputs": [
    {
     "data": {
      "text/plain": [
       "{11, 20, 41, 444, 54, 'KRRR'}"
      ]
     },
     "execution_count": 60,
     "metadata": {},
     "output_type": "execute_result"
    }
   ],
   "source": [
    "s1"
   ]
  },
  {
   "cell_type": "code",
   "execution_count": 63,
   "id": "9ed4afc9-06b1-49a2-bfd8-a28cfab14c50",
   "metadata": {},
   "outputs": [
    {
     "data": {
      "text/plain": [
       "{11, 20, 39, 41, 444, 54, 'KRRR'}"
      ]
     },
     "execution_count": 63,
     "metadata": {},
     "output_type": "execute_result"
    }
   ],
   "source": [
    "s1.update((20,39,41))\n",
    "s1"
   ]
  },
  {
   "cell_type": "code",
   "execution_count": null,
   "id": "0f435ad3-b546-427e-afb8-7038294acd2c",
   "metadata": {},
   "outputs": [],
   "source": []
  }
 ],
 "metadata": {
  "kernelspec": {
   "display_name": "Python 3 (ipykernel)",
   "language": "python",
   "name": "python3"
  },
  "language_info": {
   "codemirror_mode": {
    "name": "ipython",
    "version": 3
   },
   "file_extension": ".py",
   "mimetype": "text/x-python",
   "name": "python",
   "nbconvert_exporter": "python",
   "pygments_lexer": "ipython3",
   "version": "3.12.7"
  }
 },
 "nbformat": 4,
 "nbformat_minor": 5
}
