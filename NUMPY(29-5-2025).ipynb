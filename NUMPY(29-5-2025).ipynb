{
 "cells": [
  {
   "cell_type": "code",
   "execution_count": 1,
   "id": "78c66d94-ec50-49b2-864f-19c8579a29e8",
   "metadata": {},
   "outputs": [],
   "source": [
    "import numpy as np"
   ]
  },
  {
   "cell_type": "code",
   "execution_count": 2,
   "id": "82753312-12e7-4581-8c4e-a157375ca8f6",
   "metadata": {},
   "outputs": [
    {
     "data": {
      "text/plain": [
       "'1.26.4'"
      ]
     },
     "execution_count": 2,
     "metadata": {},
     "output_type": "execute_result"
    }
   ],
   "source": [
    "np.__version__"
   ]
  },
  {
   "cell_type": "code",
   "execution_count": 3,
   "id": "17948fb5-b72a-441d-8993-0ef041923296",
   "metadata": {},
   "outputs": [
    {
     "data": {
      "text/plain": [
       "'3.12.7 | packaged by Anaconda, Inc. | (main, Oct  4 2024, 13:17:27) [MSC v.1929 64 bit (AMD64)]'"
      ]
     },
     "execution_count": 3,
     "metadata": {},
     "output_type": "execute_result"
    }
   ],
   "source": [
    "import sys\n",
    "sys.version"
   ]
  },
  {
   "cell_type": "markdown",
   "id": "cd0c7f33-20a8-410c-aa68-f885f2d60af7",
   "metadata": {},
   "source": [
    "CREATING LIST"
   ]
  },
  {
   "cell_type": "code",
   "execution_count": 4,
   "id": "c33e5375-d23f-42b6-acde-faa918cdc290",
   "metadata": {},
   "outputs": [],
   "source": [
    "list = [4,85,1,-85]"
   ]
  },
  {
   "cell_type": "code",
   "execution_count": 5,
   "id": "4054f020-40b8-4ff7-be32-32f3c8684b02",
   "metadata": {},
   "outputs": [
    {
     "data": {
      "text/plain": [
       "list"
      ]
     },
     "execution_count": 5,
     "metadata": {},
     "output_type": "execute_result"
    }
   ],
   "source": [
    "type(list)"
   ]
  },
  {
   "cell_type": "code",
   "execution_count": 6,
   "id": "96809ce0-40d7-4023-a2e4-15c193d5b606",
   "metadata": {},
   "outputs": [],
   "source": [
    "arr= np.array(list)  #converting list to array"
   ]
  },
  {
   "cell_type": "code",
   "execution_count": 7,
   "id": "ad244dc7-17c2-47cb-980c-a546c79586c9",
   "metadata": {},
   "outputs": [
    {
     "data": {
      "text/plain": [
       "numpy.ndarray"
      ]
     },
     "execution_count": 7,
     "metadata": {},
     "output_type": "execute_result"
    }
   ],
   "source": [
    "type(arr)"
   ]
  },
  {
   "cell_type": "code",
   "execution_count": 8,
   "id": "0bb19f76-f533-4ce0-9da9-a62e7f0f2b23",
   "metadata": {},
   "outputs": [
    {
     "data": {
      "text/plain": [
       "list"
      ]
     },
     "execution_count": 8,
     "metadata": {},
     "output_type": "execute_result"
    }
   ],
   "source": [
    "type(list)"
   ]
  },
  {
   "cell_type": "code",
   "execution_count": 9,
   "id": "e1ded169-0d6f-4480-877a-aef225103abc",
   "metadata": {},
   "outputs": [
    {
     "data": {
      "text/plain": [
       "array([0, 1, 2, 3, 4, 5, 6, 7, 8, 9])"
      ]
     },
     "execution_count": 9,
     "metadata": {},
     "output_type": "execute_result"
    }
   ],
   "source": [
    "np.arange(10)"
   ]
  },
  {
   "cell_type": "code",
   "execution_count": 10,
   "id": "82eb0742-c4e0-4a84-887e-f95327643219",
   "metadata": {},
   "outputs": [
    {
     "data": {
      "text/plain": [
       "array([0., 1., 2., 3., 4.])"
      ]
     },
     "execution_count": 10,
     "metadata": {},
     "output_type": "execute_result"
    }
   ],
   "source": [
    "np.arange(5.0)"
   ]
  },
  {
   "cell_type": "code",
   "execution_count": 11,
   "id": "3537c6ef-f393-4b44-9c0f-8b9b9a368f9d",
   "metadata": {},
   "outputs": [
    {
     "data": {
      "text/plain": [
       "array([10, 11, 12, 13, 14, 15, 16, 17, 18, 19, 20, 21, 22, 23, 24])"
      ]
     },
     "execution_count": 11,
     "metadata": {},
     "output_type": "execute_result"
    }
   ],
   "source": [
    "np.arange(10,25)"
   ]
  },
  {
   "cell_type": "code",
   "execution_count": 12,
   "id": "cb611b39-8761-4ee1-b31d-a4ccb4190e4b",
   "metadata": {},
   "outputs": [
    {
     "data": {
      "text/plain": [
       "array([-6, -5, -4, -3, -2, -1,  0,  1,  2,  3,  4,  5,  6,  7,  8])"
      ]
     },
     "execution_count": 12,
     "metadata": {},
     "output_type": "execute_result"
    }
   ],
   "source": [
    "np.arange(-6,9)"
   ]
  },
  {
   "cell_type": "code",
   "execution_count": 13,
   "id": "79475801-1d03-476a-83fa-f78af54d25b4",
   "metadata": {},
   "outputs": [
    {
     "data": {
      "text/plain": [
       "array([], dtype=int32)"
      ]
     },
     "execution_count": 13,
     "metadata": {},
     "output_type": "execute_result"
    }
   ],
   "source": [
    "np.arange(-8)"
   ]
  },
  {
   "cell_type": "code",
   "execution_count": 14,
   "id": "7b280d99-bd7c-4daf-a112-980fe7a69131",
   "metadata": {},
   "outputs": [
    {
     "data": {
      "text/plain": [
       "array([ 2,  6, 10, 14, 18])"
      ]
     },
     "execution_count": 14,
     "metadata": {},
     "output_type": "execute_result"
    }
   ],
   "source": [
    "np.arange(2,20,4)"
   ]
  },
  {
   "cell_type": "code",
   "execution_count": 15,
   "id": "87683eca-c7fd-41f4-a5c5-92bc3c6f7a03",
   "metadata": {},
   "outputs": [
    {
     "data": {
      "text/plain": [
       "array([0., 0., 0., 0., 0., 0.])"
      ]
     },
     "execution_count": 15,
     "metadata": {},
     "output_type": "execute_result"
    }
   ],
   "source": [
    "np.zeros(6)"
   ]
  },
  {
   "cell_type": "code",
   "execution_count": 16,
   "id": "3d3bd820-d38c-4d84-9661-a469d14dc083",
   "metadata": {},
   "outputs": [
    {
     "data": {
      "text/plain": [
       "array([0, 0, 0, 0, 0, 0])"
      ]
     },
     "execution_count": 16,
     "metadata": {},
     "output_type": "execute_result"
    }
   ],
   "source": [
    "np.zeros(6,dtype=int)"
   ]
  },
  {
   "cell_type": "code",
   "execution_count": 17,
   "id": "8959a6bc-4e32-4260-b5e0-a59f06aca4dd",
   "metadata": {},
   "outputs": [
    {
     "data": {
      "text/plain": [
       "array(['', '', '', '', '', ''], dtype='<U1')"
      ]
     },
     "execution_count": 17,
     "metadata": {},
     "output_type": "execute_result"
    }
   ],
   "source": [
    "np.zeros(6,dtype=str)"
   ]
  },
  {
   "cell_type": "code",
   "execution_count": 18,
   "id": "cda13ad1-ca1d-43c9-9098-47377cc3ef36",
   "metadata": {},
   "outputs": [
    {
     "data": {
      "text/plain": [
       "array([False, False, False, False, False, False])"
      ]
     },
     "execution_count": 18,
     "metadata": {},
     "output_type": "execute_result"
    }
   ],
   "source": [
    "np.zeros(6,dtype=bool)"
   ]
  },
  {
   "cell_type": "code",
   "execution_count": 19,
   "id": "90a6bfa5-52ff-4eac-a18c-9325ec46752e",
   "metadata": {},
   "outputs": [
    {
     "data": {
      "text/plain": [
       "array([[0, 0, 0],\n",
       "       [0, 0, 0],\n",
       "       [0, 0, 0],\n",
       "       [0, 0, 0]])"
      ]
     },
     "execution_count": 19,
     "metadata": {},
     "output_type": "execute_result"
    }
   ],
   "source": [
    "np.zeros((4,3),dtype=int)"
   ]
  },
  {
   "cell_type": "code",
   "execution_count": 20,
   "id": "ec8ccddc-0279-44ac-8a04-118c4e9e4f6e",
   "metadata": {},
   "outputs": [
    {
     "data": {
      "text/plain": [
       "array([1, 1, 1, 1, 1, 1])"
      ]
     },
     "execution_count": 20,
     "metadata": {},
     "output_type": "execute_result"
    }
   ],
   "source": [
    "np.ones(6, dtype=int)"
   ]
  },
  {
   "cell_type": "code",
   "execution_count": 21,
   "id": "ca239fdd-66f4-466a-a617-12a59f0e45b6",
   "metadata": {},
   "outputs": [
    {
     "data": {
      "text/plain": [
       "array([[0.86815258, 0.68418733, 0.31073632, 0.18092242],\n",
       "       [0.14668108, 0.36820115, 0.57157307, 0.93986625],\n",
       "       [0.88855782, 0.42742198, 0.53371236, 0.27432596]])"
      ]
     },
     "execution_count": 21,
     "metadata": {},
     "output_type": "execute_result"
    }
   ],
   "source": [
    "np.random.rand(3,4)"
   ]
  },
  {
   "cell_type": "code",
   "execution_count": 22,
   "id": "b7d51aae-2c18-44fa-8b97-501eadb323d1",
   "metadata": {},
   "outputs": [
    {
     "data": {
      "text/plain": [
       "2"
      ]
     },
     "execution_count": 22,
     "metadata": {},
     "output_type": "execute_result"
    }
   ],
   "source": [
    "np.random.randint(1.5,4.55)"
   ]
  },
  {
   "cell_type": "code",
   "execution_count": 23,
   "id": "3365dd56-3829-45fb-9ad7-8400145e2810",
   "metadata": {},
   "outputs": [
    {
     "data": {
      "text/plain": [
       "899"
      ]
     },
     "execution_count": 23,
     "metadata": {},
     "output_type": "execute_result"
    }
   ],
   "source": [
    "np.random.randint(100,1000)"
   ]
  },
  {
   "cell_type": "code",
   "execution_count": 24,
   "id": "a8425083-df76-4cad-8614-b15dd61c88cd",
   "metadata": {},
   "outputs": [
    {
     "data": {
      "text/plain": [
       "array([605, 601, 669, 460])"
      ]
     },
     "execution_count": 24,
     "metadata": {},
     "output_type": "execute_result"
    }
   ],
   "source": [
    "np.random.randint(100,845,4)"
   ]
  },
  {
   "cell_type": "code",
   "execution_count": 25,
   "id": "7a1547a6-9149-45ab-a967-242eac27a15a",
   "metadata": {},
   "outputs": [
    {
     "data": {
      "text/plain": [
       "array([0.66087925, 0.8369852 , 0.11571859])"
      ]
     },
     "execution_count": 25,
     "metadata": {},
     "output_type": "execute_result"
    }
   ],
   "source": [
    "np.random.random(3)"
   ]
  },
  {
   "cell_type": "code",
   "execution_count": 26,
   "id": "8c20df39-2c72-4f59-ae8b-f8c63393ecec",
   "metadata": {},
   "outputs": [
    {
     "data": {
      "text/plain": [
       "array([ 1,  2,  3,  4,  5,  6,  7,  8,  9, 10, 11, 12])"
      ]
     },
     "execution_count": 26,
     "metadata": {},
     "output_type": "execute_result"
    }
   ],
   "source": [
    "np.arange(1,13)"
   ]
  },
  {
   "cell_type": "code",
   "execution_count": 29,
   "id": "1ddc4a73-f5bd-496a-80bd-690044839ded",
   "metadata": {},
   "outputs": [
    {
     "data": {
      "text/plain": [
       "array([[ 1,  2,  3],\n",
       "       [ 4,  5,  6],\n",
       "       [ 7,  8,  9],\n",
       "       [10, 11, 12]])"
      ]
     },
     "execution_count": 29,
     "metadata": {},
     "output_type": "execute_result"
    }
   ],
   "source": [
    "np.arange(1,13).reshape(4,3)"
   ]
  },
  {
   "cell_type": "code",
   "execution_count": null,
   "id": "3b131550-a3c6-47cd-b66f-7f10e249dd36",
   "metadata": {},
   "outputs": [],
   "source": []
  },
  {
   "cell_type": "markdown",
   "id": "b38533b2-44a4-4ae6-8371-9767d47a45eb",
   "metadata": {},
   "source": [
    "## SLICING IN MATRIX"
   ]
  },
  {
   "cell_type": "code",
   "execution_count": 33,
   "id": "279ad32b-ad91-49a7-8453-741dbc1834ce",
   "metadata": {},
   "outputs": [
    {
     "data": {
      "text/plain": [
       "array([[13, 29, 16, 24, 20],\n",
       "       [24, 24, 25, 26, 25],\n",
       "       [20, 22, 27, 29, 15],\n",
       "       [27, 24, 25, 19, 27]])"
      ]
     },
     "execution_count": 33,
     "metadata": {},
     "output_type": "execute_result"
    }
   ],
   "source": [
    "b=np.random.randint(10,30,(4,5))\n",
    "b"
   ]
  },
  {
   "cell_type": "code",
   "execution_count": 35,
   "id": "1cad1bf5-bb69-4134-b7f1-31375a50e4ef",
   "metadata": {},
   "outputs": [
    {
     "data": {
      "text/plain": [
       "numpy.ndarray"
      ]
     },
     "execution_count": 35,
     "metadata": {},
     "output_type": "execute_result"
    }
   ],
   "source": [
    "type(b)"
   ]
  },
  {
   "cell_type": "code",
   "execution_count": 34,
   "id": "37b572e7-5dcb-4145-a9c4-836f9f6395b3",
   "metadata": {},
   "outputs": [
    {
     "data": {
      "text/plain": [
       "array([[24, 24, 25, 26, 25],\n",
       "       [20, 22, 27, 29, 15]])"
      ]
     },
     "execution_count": 34,
     "metadata": {},
     "output_type": "execute_result"
    }
   ],
   "source": [
    "b[1:3]"
   ]
  },
  {
   "cell_type": "code",
   "execution_count": 38,
   "id": "b0aa8490-425b-4877-9476-65d5aef01019",
   "metadata": {},
   "outputs": [
    {
     "data": {
      "text/plain": [
       "27"
      ]
     },
     "execution_count": 38,
     "metadata": {},
     "output_type": "execute_result"
    }
   ],
   "source": [
    "b[3,4]"
   ]
  },
  {
   "cell_type": "code",
   "execution_count": 39,
   "id": "dda29e1c-57e7-4b3b-86bc-56688e65d6fb",
   "metadata": {},
   "outputs": [
    {
     "data": {
      "text/plain": [
       "29"
      ]
     },
     "execution_count": 39,
     "metadata": {},
     "output_type": "execute_result"
    }
   ],
   "source": [
    "b[2,-2]"
   ]
  },
  {
   "cell_type": "markdown",
   "id": "a4598c58-0bde-4fe9-9c54-c8303205d5ce",
   "metadata": {},
   "source": [
    "# numpy operations"
   ]
  },
  {
   "cell_type": "code",
   "execution_count": 41,
   "id": "9b1a664f-f9dc-497f-8775-6f47d3bb65c0",
   "metadata": {},
   "outputs": [
    {
     "data": {
      "text/plain": [
       "array([[13, 29, 16, 24, 20],\n",
       "       [20, 22, 27, 29, 15]])"
      ]
     },
     "execution_count": 41,
     "metadata": {},
     "output_type": "execute_result"
    }
   ],
   "source": [
    "b[::2]"
   ]
  },
  {
   "cell_type": "code",
   "execution_count": 42,
   "id": "24324394-7546-4614-b4fa-386b722dc9da",
   "metadata": {},
   "outputs": [
    {
     "data": {
      "text/plain": [
       "array([[27, 24, 25, 19, 27],\n",
       "       [24, 24, 25, 26, 25]])"
      ]
     },
     "execution_count": 42,
     "metadata": {},
     "output_type": "execute_result"
    }
   ],
   "source": [
    "b[::-2]"
   ]
  },
  {
   "cell_type": "code",
   "execution_count": 43,
   "id": "fb2c10b2-f110-4de6-a8d7-5206a9838581",
   "metadata": {},
   "outputs": [
    {
     "data": {
      "text/plain": [
       "array([[13, 29, 16, 24, 20],\n",
       "       [24, 24, 25, 26, 25],\n",
       "       [20, 22, 27, 29, 15],\n",
       "       [27, 24, 25, 19, 27]])"
      ]
     },
     "execution_count": 43,
     "metadata": {},
     "output_type": "execute_result"
    }
   ],
   "source": [
    "b"
   ]
  },
  {
   "cell_type": "code",
   "execution_count": 44,
   "id": "f1365308-00e3-48a4-b992-d67fd954e39e",
   "metadata": {},
   "outputs": [
    {
     "data": {
      "text/plain": [
       "29"
      ]
     },
     "execution_count": 44,
     "metadata": {},
     "output_type": "execute_result"
    }
   ],
   "source": [
    "b.max()"
   ]
  },
  {
   "cell_type": "code",
   "execution_count": 45,
   "id": "983be090-0096-486f-a775-a256321cb899",
   "metadata": {},
   "outputs": [
    {
     "data": {
      "text/plain": [
       "array([[27, 24, 25, 19, 27],\n",
       "       [20, 22, 27, 29, 15],\n",
       "       [24, 24, 25, 26, 25],\n",
       "       [13, 29, 16, 24, 20]])"
      ]
     },
     "execution_count": 45,
     "metadata": {},
     "output_type": "execute_result"
    }
   ],
   "source": [
    "b[::-1]"
   ]
  },
  {
   "cell_type": "code",
   "execution_count": 46,
   "id": "c9fd39b5-e916-4d36-9555-15acd1820ae9",
   "metadata": {},
   "outputs": [],
   "source": [
    "krr=[56,11,78,55]"
   ]
  },
  {
   "cell_type": "code",
   "execution_count": 47,
   "id": "6d559ac7-a3a4-4988-8754-f98a51e649a2",
   "metadata": {},
   "outputs": [
    {
     "data": {
      "text/plain": [
       "[55, 78, 11, 56]"
      ]
     },
     "execution_count": 47,
     "metadata": {},
     "output_type": "execute_result"
    }
   ],
   "source": [
    "krr[::-1]"
   ]
  },
  {
   "cell_type": "code",
   "execution_count": 49,
   "id": "82b4f037-e1be-40ea-b471-eddde6caf174",
   "metadata": {},
   "outputs": [
    {
     "data": {
      "text/plain": [
       "array([[51, 33, 79, 58, 66, 19, 34, 23, 51, 78],\n",
       "       [63, 58, 89, 15, 34, 56, 14, 15, 20, 13],\n",
       "       [68, 30, 64, 68, 49, 52, 74, 34, 92, 92],\n",
       "       [90, 72, 87, 35, 24, 56, 31, 44, 52, 27],\n",
       "       [32, 59, 48, 59, 36, 64, 54, 62, 65, 26],\n",
       "       [90, 39, 95, 72, 71, 19, 79, 14, 33, 19],\n",
       "       [20, 54, 34, 38, 76, 45, 98, 87, 14, 77],\n",
       "       [19, 84, 50, 64, 25, 37, 47, 29, 31, 16],\n",
       "       [14, 49, 22, 35, 43, 27, 53, 28, 13, 81],\n",
       "       [85, 87, 60, 54, 22, 28, 85, 94, 31, 15]])"
      ]
     },
     "execution_count": 49,
     "metadata": {},
     "output_type": "execute_result"
    }
   ],
   "source": [
    "hit=np.random.randint(10,100,(10,10))\n",
    "hit"
   ]
  },
  {
   "cell_type": "code",
   "execution_count": 50,
   "id": "5a4e75c2-d298-4479-a442-1c5bcef6602e",
   "metadata": {},
   "outputs": [
    {
     "data": {
      "text/plain": [
       "array([58, 15, 68, 35, 59, 72, 38, 64, 35, 54])"
      ]
     },
     "execution_count": 50,
     "metadata": {},
     "output_type": "execute_result"
    }
   ],
   "source": [
    "hit[:,3]  #COLUMN PRINTING"
   ]
  },
  {
   "cell_type": "code",
   "execution_count": 52,
   "id": "2aa85279-3a08-49fe-bc93-5a8cbed3a57c",
   "metadata": {},
   "outputs": [
    {
     "data": {
      "text/plain": [
       "array([[15, 34, 56],\n",
       "       [68, 49, 52],\n",
       "       [35, 24, 56]])"
      ]
     },
     "execution_count": 52,
     "metadata": {},
     "output_type": "execute_result"
    }
   ],
   "source": [
    "hit[1:4,3:6]"
   ]
  },
  {
   "cell_type": "markdown",
   "id": "20cb386c-e5a4-4962-b238-794c0fec1949",
   "metadata": {},
   "source": [
    "# MASKING"
   ]
  },
  {
   "cell_type": "code",
   "execution_count": 53,
   "id": "57a47686-39df-41ff-8084-0010c9030e1a",
   "metadata": {},
   "outputs": [
    {
     "data": {
      "text/plain": [
       "1797665504304"
      ]
     },
     "execution_count": 53,
     "metadata": {},
     "output_type": "execute_result"
    }
   ],
   "source": [
    "id(hit)"
   ]
  },
  {
   "cell_type": "code",
   "execution_count": 54,
   "id": "76af9354-6a74-46f9-9d99-e9c9655f27d8",
   "metadata": {},
   "outputs": [
    {
     "data": {
      "text/plain": [
       "array([[ True, False,  True,  True,  True, False, False, False,  True,\n",
       "         True],\n",
       "       [ True,  True,  True, False, False,  True, False, False, False,\n",
       "        False],\n",
       "       [ True, False,  True,  True, False,  True,  True, False,  True,\n",
       "         True],\n",
       "       [ True,  True,  True, False, False,  True, False, False,  True,\n",
       "        False],\n",
       "       [False,  True, False,  True, False,  True,  True,  True,  True,\n",
       "        False],\n",
       "       [ True, False,  True,  True,  True, False,  True, False, False,\n",
       "        False],\n",
       "       [False,  True, False, False,  True, False,  True,  True, False,\n",
       "         True],\n",
       "       [False,  True, False,  True, False, False, False, False, False,\n",
       "        False],\n",
       "       [False, False, False, False, False, False,  True, False, False,\n",
       "         True],\n",
       "       [ True,  True,  True,  True, False, False,  True,  True, False,\n",
       "        False]])"
      ]
     },
     "execution_count": 54,
     "metadata": {},
     "output_type": "execute_result"
    }
   ],
   "source": [
    "hit>50"
   ]
  },
  {
   "cell_type": "code",
   "execution_count": 55,
   "id": "ce45f79b-4087-4a2e-b1ec-8af5e33094c8",
   "metadata": {},
   "outputs": [
    {
     "data": {
      "text/plain": [
       "array([51, 79, 58, 66, 51, 78, 63, 58, 89, 56, 68, 64, 68, 52, 74, 92, 92,\n",
       "       90, 72, 87, 56, 52, 59, 59, 64, 54, 62, 65, 90, 95, 72, 71, 79, 54,\n",
       "       76, 98, 87, 77, 84, 64, 53, 81, 85, 87, 60, 54, 85, 94])"
      ]
     },
     "execution_count": 55,
     "metadata": {},
     "output_type": "execute_result"
    }
   ],
   "source": [
    "hit[hit>50]"
   ]
  },
  {
   "cell_type": "code",
   "execution_count": null,
   "id": "533fa966-73c1-4271-986b-ef5724a41e1a",
   "metadata": {},
   "outputs": [],
   "source": []
  }
 ],
 "metadata": {
  "kernelspec": {
   "display_name": "Python 3 (ipykernel)",
   "language": "python",
   "name": "python3"
  },
  "language_info": {
   "codemirror_mode": {
    "name": "ipython",
    "version": 3
   },
   "file_extension": ".py",
   "mimetype": "text/x-python",
   "name": "python",
   "nbconvert_exporter": "python",
   "pygments_lexer": "ipython3",
   "version": "3.12.7"
  }
 },
 "nbformat": 4,
 "nbformat_minor": 5
}
